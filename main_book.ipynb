{
 "cells": [
  {
   "attachments": {},
   "cell_type": "markdown",
   "metadata": {},
   "source": [
    "# Analysing US Medical Insurance data\n",
    "#### Portfolio project"
   ]
  },
  {
   "attachments": {},
   "cell_type": "markdown",
   "metadata": {},
   "source": [
    "Step 1: Importing the insurance.csv file."
   ]
  },
  {
   "cell_type": "code",
   "execution_count": 2,
   "metadata": {},
   "outputs": [],
   "source": [
    "import csv\n",
    "def import_file(file):\n",
    "    insurance_data = []\n",
    "    with open(file) as data_file:\n",
    "        data_reader = csv.DictReader(data_file)\n",
    "        for row in data_reader:\n",
    "            insurance_data.append(row)\n",
    "    # print(\"Total number of persons in the dataset : {}\".format(len(insurance_data)))\n",
    "    return insurance_data"
   ]
  },
  {
   "attachments": {},
   "cell_type": "markdown",
   "metadata": {},
   "source": [
    "Step 2: Creating separate lists for each of the columns."
   ]
  },
  {
   "cell_type": "code",
   "execution_count": 3,
   "metadata": {},
   "outputs": [],
   "source": [
    "file_name = 'D:/Learning/Codeacademy_projects/portfolio-proj-1/data_files/insurance.csv'\n",
    "imported_data = import_file(file_name)\n",
    "headers_list = list(imported_data[0])\n",
    "age_list = []\n",
    "sex_list = []\n",
    "bmi_list = []\n",
    "children_list = []\n",
    "smoker_list = []\n",
    "region_list = []\n",
    "charges_list = []\n",
    "\n",
    "for row in imported_data:\n",
    "    age_list.append(int(row['age']))\n",
    "    sex_list.append(row['sex'])\n",
    "    bmi_list.append(float(row['bmi']))\n",
    "    children_list.append(int(row['children']))\n",
    "    smoker_list.append(row['smoker'])\n",
    "    region_list.append(row['region'])\n",
    "    charges_list.append(float(row['charges']))"
   ]
  },
  {
   "attachments": {},
   "cell_type": "markdown",
   "metadata": {},
   "source": [
    "Step 3: Analyse the dataset\n",
    "\n",
    "###### 3.1 - Descriptive stats on age"
   ]
  },
  {
   "cell_type": "code",
   "execution_count": 39,
   "metadata": {},
   "outputs": [
    {
     "name": "stdout",
     "output_type": "stream",
     "text": [
      "Avg age of male is : 38.92\n",
      "Avg age of female is : 39.5\n",
      "Avg age of northwest region is : 39.2\n",
      "Avg age of southwest region is : 39.46\n",
      "Avg age of southeast region is : 38.94\n",
      "Avg age of northeast region is : 39.27\n",
      "Avg age of yes smoking is : 38.51\n",
      "Avg age of no smoking is : 39.39\n"
     ]
    }
   ],
   "source": [
    "import statistics\n",
    "\n",
    "all_gender = set(sex_list)\n",
    "all_smoker = set(smoker_list)\n",
    "all_regions = set(region_list)\n",
    "\n",
    "\n",
    "gender_x_ages = {}\n",
    "for gender in all_gender:\n",
    "    gender_x_ages[gender] = []\n",
    "    for row in imported_data:\n",
    "        if row['sex'] == gender:\n",
    "            gender_x_ages[gender].append(int(row['age']))\n",
    "\n",
    "region_x_ages = {}\n",
    "for region in all_regions:\n",
    "    region_x_ages[region] = []\n",
    "    for row in imported_data:\n",
    "        if row['region'] == region:\n",
    "            region_x_ages[region].append(int(row['age']))\n",
    "\n",
    "smoker_x_ages = {}\n",
    "for smoker in all_smoker:\n",
    "    smoker_x_ages[smoker] = []\n",
    "    for row in imported_data:\n",
    "        if row['smoker'] == smoker:\n",
    "            smoker_x_ages[smoker].append(int(row['age']))\n",
    "\n",
    "#print avg age for each gender\n",
    "for gender in gender_x_ages:\n",
    "    print(\"Avg age of {} is : {}\".format(gender, round(statistics.mean(gender_x_ages[gender]),2)))\n",
    "\n",
    "#print avg age for each region\n",
    "for region in region_x_ages:\n",
    "    print(\"Avg age of {} region is : {}\".format(region, round(statistics.mean(region_x_ages[region]),2)))\n",
    "\n",
    "#print avg age for each smoker status\n",
    "for status in smoker_x_ages:\n",
    "    print(\"Avg age of {} smoking is : {}\".format(status, round(statistics.mean(smoker_x_ages[status]),2)))\n",
    "\n",
    "# print(\"The average age of the dataset is: {}\".format(statistics.mean(age_list)))\n",
    "# print(\"The max age of the dataset is: {}\".format(max(age_list)))\n",
    "# print(\"The min age of the dataset is: {}\".format(min(age_list)))\n",
    "# print(\"The median age of the dataset is: {}\".format(statistics.median(age_list)))\n",
    "\n",
    "# print(\"The average of males in the dataset: {}\".format())\n",
    "# male_ages = [sex if sex='male' for sex in sex_list]\n",
    "\n",
    "#organise the code in functions..\n",
    "\n",
    "#can make sets to indetify unique values for each column\n",
    "#and can get counts for each value.\n",
    "# can make dicts for averages and counts etc..\n",
    "# relax and do the project. Don't rush through it.."
   ]
  },
  {
   "attachments": {},
   "cell_type": "markdown",
   "metadata": {},
   "source": [
    "Summary stats on categorical variables\n",
    "\n",
    "###### on Gender, Smoker and Region."
   ]
  },
  {
   "cell_type": "code",
   "execution_count": 4,
   "metadata": {},
   "outputs": [
    {
     "name": "stdout",
     "output_type": "stream",
     "text": [
      "How many persons of each gender?\n",
      "total females: 662\n",
      "Smokers: 115(17.4%)\n",
      "total males: 676\n",
      "Smokers: 159(23.5%)\n",
      "\n",
      "How many smokers?\n",
      "Total smokers: 274\n",
      "\n",
      "How many persons from each region?\n",
      "southwest: 325\n",
      "Smokers: 58(17.8%)\n",
      "northwest: 325\n",
      "Smokers: 58(17.8%)\n",
      "southeast: 364\n",
      "Smokers: 91(25.0%)\n",
      "northeast: 324\n",
      "Smokers: 67(20.7%)\n"
     ]
    }
   ],
   "source": [
    "import statistics\n",
    "\n",
    "# Get all unique values in the respective columns.\n",
    "all_gender = set(sex_list)\n",
    "all_smoker = set(smoker_list)\n",
    "all_regions = set(region_list)\n",
    "\n",
    "print(\"How many persons of each gender?\")\n",
    "for gender in all_gender:\n",
    "    print(\"total {}s: {}\".format(gender, sex_list.count(gender)))\n",
    "    sm_count = 0\n",
    "    for row in imported_data:\n",
    "        if(row['sex'] == gender and row['smoker'] == 'yes'):\n",
    "            sm_count += 1\n",
    "    sm_pct = round(sm_count / sex_list.count(gender) *100,1)\n",
    "    print(\"Smokers: {}({}%)\".format(sm_count,sm_pct))\n",
    "\n",
    "print(\"\\nHow many smokers?\")\n",
    "print(\"Total smokers: {}\".format(smoker_list.count(\"yes\")))\n",
    "\n",
    "print(\"\\nHow many persons from each region?\")\n",
    "for region in all_regions:\n",
    "    print(\"{}: {}\".format(region,region_list.count(region)))\n",
    "    sm_count = 0\n",
    "    for row in imported_data:\n",
    "        if(row['region'] == region and row['smoker'] == 'yes'):\n",
    "            sm_count += 1\n",
    "    sm_pct = round(sm_count / region_list.count(region) *100,1)\n",
    "    print(\"Smokers: {}({}%)\".format(sm_count,sm_pct))\n",
    "\n"
   ]
  },
  {
   "attachments": {},
   "cell_type": "markdown",
   "metadata": {},
   "source": [
    "Summary stats on Numerical variables\n",
    "###### on age, bmi, children and charges."
   ]
  },
  {
   "cell_type": "code",
   "execution_count": 9,
   "metadata": {},
   "outputs": [
    {
     "name": "stdout",
     "output_type": "stream",
     "text": [
      "Average age: 39.21\n",
      "Median age: 39.0\n",
      "Mode age: 18\n"
     ]
    }
   ],
   "source": [
    "print(\"Average age: {}\".format(round(statistics.mean(age_list),2)))\n",
    "print(\"Median age: {}\".format(round(statistics.median(age_list),2)))\n",
    "print(\"Mode age: {}\".format(round(statistics.mode(age_list),2)))"
   ]
  },
  {
   "cell_type": "code",
   "execution_count": 38,
   "metadata": {},
   "outputs": [
    {
     "data": {
      "image/png": "[encoded data removed]",
      "text/plain": [
       "<Figure size 640x480 with 1 Axes>"
      ]
     },
     "metadata": {},
     "output_type": "display_data"
    },
    {
     "name": "stdout",
     "output_type": "stream",
     "text": [
      "Standard deviation of ages: 14.04\n",
      "IQR of ages: 24.0\n"
     ]
    }
   ],
   "source": [
    "import matplotlib.pyplot as plt\n",
    "import numpy as np\n",
    "\n",
    "all_ages = set(age_list)\n",
    "ages_count = dict.fromkeys(all_ages,0)\n",
    "for row in imported_data:\n",
    "    ages_count[int(row['age'])] += 1\n",
    "\n",
    "x = np.array(list(ages_count.keys()))\n",
    "y = np.array(list(ages_count.values()))\n",
    "\n",
    "plt.bar(x,y)\n",
    "plt.show()\n",
    "\n",
    "print(\"Standard deviation of ages: {}\".format(round(statistics.pstdev(age_list),2)))\n",
    "print(\"IQR of ages: {}\".format(round(np.quantile(age_list,0.75) - np.quantile(age_list,0.25),2)))"
   ]
  },
  {
   "attachments": {},
   "cell_type": "markdown",
   "metadata": {},
   "source": [
    "age 18 and 19 are the modal ages and 39 is the mean and median age."
   ]
  },
  {
   "attachments": {},
   "cell_type": "markdown",
   "metadata": {},
   "source": [
    "summary stats on bmi"
   ]
  },
  {
   "cell_type": "code",
   "execution_count": 41,
   "metadata": {},
   "outputs": [
    {
     "name": "stdout",
     "output_type": "stream",
     "text": [
      "Average bmi: 30.66\n",
      "Median bmi: 30.4\n",
      "Mode bmi: 32.3\n"
     ]
    },
    {
     "data": {
      "image/png": "[encoded data removed]",
      "text/plain": [
       "<Figure size 640x480 with 1 Axes>"
      ]
     },
     "metadata": {},
     "output_type": "display_data"
    },
    {
     "name": "stdout",
     "output_type": "stream",
     "text": [
      "Standard deviation of ages: 6.1\n",
      "IQR of ages: 8.4\n"
     ]
    }
   ],
   "source": [
    "print(\"Average bmi: {}\".format(round(statistics.mean(bmi_list),2)))\n",
    "print(\"Median bmi: {}\".format(round(statistics.median(bmi_list),2)))\n",
    "print(\"Mode bmi: {}\".format(round(statistics.mode(bmi_list),2)))\n",
    "\n",
    "all_bmis = set(bmi_list)\n",
    "bmis_count = dict.fromkeys(all_bmis,0)\n",
    "for row in imported_data:\n",
    "    bmis_count[float(row['bmi'])] += 1\n",
    "\n",
    "x = np.array(list(bmis_count.keys()))\n",
    "y = np.array(list(bmis_count.values()))\n",
    "\n",
    "plt.bar(x,y)\n",
    "plt.show()\n",
    "\n",
    "print(\"Standard deviation of ages: {}\".format(round(statistics.pstdev(bmi_list),2)))\n",
    "print(\"IQR of ages: {}\".format(round(np.quantile(bmi_list,0.75) - np.quantile(bmi_list,0.25),2)))"
   ]
  },
  {
   "attachments": {},
   "cell_type": "markdown",
   "metadata": {},
   "source": [
    "summary stats on number of children"
   ]
  },
  {
   "cell_type": "code",
   "execution_count": 60,
   "metadata": {},
   "outputs": [
    {
     "name": "stdout",
     "output_type": "stream",
     "text": [
      "Average count: 1.09\n",
      "Median count: 1.0\n",
      "Mode count: 0\n"
     ]
    },
    {
     "data": {
      "image/png": "[encoded data removed]",
      "text/plain": [
       "<Figure size 640x480 with 1 Axes>"
      ]
     },
     "metadata": {},
     "output_type": "display_data"
    },
    {
     "name": "stdout",
     "output_type": "stream",
     "text": [
      "Standard deviation of ages: 1.21\n",
      "IQR of ages: 2.0\n"
     ]
    }
   ],
   "source": [
    "print(\"Average count: {}\".format(round(statistics.mean(children_list),2)))\n",
    "print(\"Median count: {}\".format(round(statistics.median(children_list),2)))\n",
    "print(\"Mode count: {}\".format(round(statistics.mode(children_list),2)))\n",
    "\n",
    "all_children = set(children_list)\n",
    "children_count = dict.fromkeys(all_children,0)\n",
    "for row in imported_data:\n",
    "    children_count[float(row['children'])] += 1\n",
    "\n",
    "x = np.array(list(children_count.keys()))\n",
    "y = np.array(list(children_count.values()))\n",
    "\n",
    "plt.bar(x,y)\n",
    "plt.show()\n",
    "\n",
    "print(\"Standard deviation of ages: {}\".format(round(statistics.pstdev(children_list),2)))\n",
    "print(\"IQR of ages: {}\".format(round(np.quantile(children_list,0.75) - np.quantile(children_list,0.25),2)))"
   ]
  },
  {
   "attachments": {},
   "cell_type": "markdown",
   "metadata": {},
   "source": [
    "summary stats on charges"
   ]
  },
  {
   "cell_type": "code",
   "execution_count": 59,
   "metadata": {},
   "outputs": [
    {
     "name": "stdout",
     "output_type": "stream",
     "text": [
      "Average charges: 13270.42\n",
      "Median charges: 9382.03\n",
      "Mode charges: 1639.56\n",
      "min charges: 1121.8739\n",
      "max charges: 63770.42801\n",
      "[10000, 20000, 30000, 40000, 50000, 60000, 70000]\n",
      "[712, 353, 111, 83, 72, 4, 3]\n"
     ]
    },
    {
     "data": {
      "image/png": "[encoded data removed]",
      "text/plain": [
       "<Figure size 640x480 with 1 Axes>"
      ]
     },
     "metadata": {},
     "output_type": "display_data"
    },
    {
     "name": "stdout",
     "output_type": "stream",
     "text": [
      "Standard deviation of ages: 12105.48\n",
      "IQR of ages: 11899.63\n"
     ]
    }
   ],
   "source": [
    "print(\"Average charges: {}\".format(round(statistics.mean(charges_list),2)))\n",
    "print(\"Median charges: {}\".format(round(statistics.median(charges_list),2)))\n",
    "print(\"Mode charges: {}\".format(round(statistics.mode(charges_list),2)))\n",
    "print(\"min charges: {}\".format(min(charges_list)))\n",
    "print(\"max charges: {}\".format(max(charges_list)))\n",
    "\n",
    "all_charges = set(charges_list)\n",
    "groups_charges = {10000:0,20000:0,30000:0,40000:0,50000:0,60000:0,70000:0}\n",
    "charges_count = dict.fromkeys(all_charges,0)\n",
    "for row in imported_data:\n",
    "    charges_count[float(row['charges'])] += 1\n",
    "    if(float(row['charges']) < 10000.0):\n",
    "        groups_charges[10000] += 1\n",
    "    elif(float(row['charges']) < 20000.0):\n",
    "        groups_charges[20000] += 1\n",
    "    elif(float(row['charges']) < 30000.0):\n",
    "        groups_charges[30000] += 1\n",
    "    elif(float(row['charges']) < 40000.0):\n",
    "        groups_charges[40000] += 1\n",
    "    elif(float(row['charges']) < 50000.0):\n",
    "        groups_charges[50000] += 1\n",
    "    elif(float(row['charges']) < 60000.0):\n",
    "        groups_charges[60000] += 1\n",
    "    elif(float(row['charges']) < 70000.0):\n",
    "        groups_charges[70000] += 1\n",
    "\n",
    "x = np.array(list(groups_charges.keys()))\n",
    "y = np.array(list(groups_charges.values()))\n",
    "# print(list(groups_charges.keys()))\n",
    "# print(list(groups_charges.values()))\n",
    "\n",
    "plt.bar(x,y)\n",
    "plt.show()\n",
    "\n",
    "print(\"Standard deviation of ages: {}\".format(round(statistics.pstdev(charges_list),2)))\n",
    "print(\"IQR of ages: {}\".format(round(np.quantile(charges_list,0.75) - np.quantile(charges_list,0.25),2)))"
   ]
  }
 ],
 "metadata": {
  "kernelspec": {
   "display_name": "Python 3",
   "language": "python",
   "name": "python3"
  },
  "language_info": {
   "codemirror_mode": {
    "name": "ipython",
    "version": 3
   },
   "file_extension": ".py",
   "mimetype": "text/x-python",
   "name": "python",
   "nbconvert_exporter": "python",
   "pygments_lexer": "ipython3",
   "version": "3.11.1"
  },
  "orig_nbformat": 4
 },
 "nbformat": 4,
 "nbformat_minor": 2
}
