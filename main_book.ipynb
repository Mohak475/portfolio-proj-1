{
 "cells": [
  {
   "attachments": {},
   "cell_type": "markdown",
   "metadata": {},
   "source": [
    "# Analysing US Medical Insurance data\n",
    "### Portfolio project"
   ]
  },
  {
   "attachments": {},
   "cell_type": "markdown",
   "metadata": {},
   "source": [
    "#### Step 1: Importing the data (insurance.csv)"
   ]
  },
  {
   "cell_type": "code",
   "execution_count": 2,
   "metadata": {},
   "outputs": [],
   "source": [
    "import csv\n",
    "def import_data(file):\n",
    "    insurance_data = []\n",
    "    with open(file) as data_file:\n",
    "        data_reader = csv.DictReader(data_file)\n",
    "        for row in data_reader:\n",
    "            insurance_data.append(row)\n",
    "    # print(\"Total number of persons in the dataset : {}\".format(len(insurance_data)))\n",
    "    return insurance_data"
   ]
  },
  {
   "attachments": {},
   "cell_type": "markdown",
   "metadata": {},
   "source": [
    "#### Step 2: Creating separate lists for each of the columns."
   ]
  },
  {
   "cell_type": "code",
   "execution_count": 3,
   "metadata": {},
   "outputs": [],
   "source": [
    "file_name = 'D:/Learning/Codeacademy_projects/portfolio-proj-1/data_files/insurance.csv'\n",
    "# calling the import data function\n",
    "imported_data = import_data(file_name)\n",
    "headers_list = list(imported_data[0])\n",
    "age_list = []\n",
    "sex_list = []\n",
    "bmi_list = []\n",
    "children_list = []\n",
    "smoker_list = []\n",
    "region_list = []\n",
    "charges_list = []\n",
    "\n",
    "for row in imported_data:\n",
    "    age_list.append(int(row['age']))\n",
    "    sex_list.append(row['sex'])\n",
    "    bmi_list.append(float(row['bmi']))\n",
    "    children_list.append(int(row['children']))\n",
    "    smoker_list.append(row['smoker'])\n",
    "    region_list.append(row['region'])\n",
    "    charges_list.append(float(row['charges']))"
   ]
  },
  {
   "attachments": {},
   "cell_type": "markdown",
   "metadata": {},
   "source": [
    "#### Step 3: Analysing the dataset"
   ]
  },
  {
   "attachments": {},
   "cell_type": "markdown",
   "metadata": {},
   "source": [
    "- Summary stats on categorical variables\n",
    "    - ###### on Gender, Smoker and Region."
   ]
  },
  {
   "cell_type": "code",
   "execution_count": 31,
   "metadata": {},
   "outputs": [
    {
     "name": "stdout",
     "output_type": "stream",
     "text": [
      "How many patients of each gender?\n",
      "Total males: 676\n",
      "  Smokers: 159(23.5%)\n",
      "Total females: 662\n",
      "  Smokers: 115(17.4%)\n"
     ]
    },
    {
     "data": {
      "image/png": "[encoded data removed]",
      "text/plain": [
       "<Figure size 640x480 with 1 Axes>"
      ]
     },
     "metadata": {},
     "output_type": "display_data"
    },
    {
     "name": "stdout",
     "output_type": "stream",
     "text": [
      "Total smokers: 274\n",
      "\n",
      "How many patients from each region?\n",
      "northeast: 324\n",
      "  Smokers: 67(20.7%)\n",
      "  Avg. charges: 13406.38\n",
      "southwest: 325\n",
      "  Smokers: 58(17.8%)\n",
      "  Avg. charges: 12346.94\n",
      "southeast: 364\n",
      "  Smokers: 91(25.0%)\n",
      "  Avg. charges: 14735.41\n",
      "northwest: 325\n",
      "  Smokers: 58(17.8%)\n",
      "  Avg. charges: 12417.58\n"
     ]
    },
    {
     "data": {
      "image/png": "[encoded data removed]",
      "text/plain": [
       "<Figure size 640x480 with 1 Axes>"
      ]
     },
     "metadata": {},
     "output_type": "display_data"
    }
   ],
   "source": [
    "import statistics, matplotlib.pyplot as plt, numpy as np\n",
    "\n",
    "# Get all unique values in the respective columns.\n",
    "all_gender = set(sex_list)\n",
    "all_smoker = set(smoker_list)\n",
    "all_regions = set(region_list)\n",
    "\n",
    "print(\"How many patients of each gender?\")\n",
    "gender_count = []\n",
    "gender_count_smoker = []\n",
    "for gender in all_gender:\n",
    "    print(\"Total {}s: {}\".format(gender, sex_list.count(gender)))\n",
    "    gender_count.append(sex_list.count(gender))\n",
    "    sm_count = 0\n",
    "    for row in imported_data:\n",
    "        if(row['sex'] == gender and row['smoker'] == 'yes'):\n",
    "            sm_count += 1\n",
    "    gender_count_smoker.append(sm_count)\n",
    "    sm_pct = round(sm_count / sex_list.count(gender) *100,1)\n",
    "    print(\"  Smokers: {}({}%)\".format(sm_count,sm_pct))\n",
    "\n",
    "x = np.array(list(all_gender))\n",
    "y = np.array(gender_count)\n",
    "plt.bar(x, y)\n",
    "\n",
    "y = np.array(gender_count_smoker)\n",
    "plt.bar(x, y)\n",
    "plt.show()\n",
    "\n",
    "\n",
    "# print(\"\\nHow many smokers?\")\n",
    "print(\"Total smokers: {}\".format(smoker_list.count(\"yes\")))\n",
    "\n",
    "print(\"\\nHow many patients from each region?\")\n",
    "region_count = []\n",
    "region_count_smoker = []\n",
    "region_smoker_list = {}\n",
    "region_non_smoker_list = {}\n",
    "for region in all_regions:\n",
    "    print(\"{}: {}\".format(region,region_list.count(region)))\n",
    "    region_count.append(region_list.count(region))\n",
    "    region_smoker_list[region] = []\n",
    "    region_non_smoker_list[region] = []\n",
    "\n",
    "    sm_count = 0\n",
    "    region_charges = []\n",
    "    for row in imported_data:\n",
    "        if(row['region'] == region and row['smoker'] == 'yes'):\n",
    "            sm_count += 1\n",
    "            region_smoker_list[region].append(row['age'])\n",
    "        else:\n",
    "            region_non_smoker_list[region].append(row['age'])\n",
    "\n",
    "        if(row['region'] == region):\n",
    "            region_charges.append(float(row['charges']))\n",
    "    region_count_smoker.append(sm_count)\n",
    "    sm_pct = round(sm_count / region_list.count(region) *100,1)\n",
    "    print(\"  Smokers: {}({}%)\".format(sm_count,sm_pct))\n",
    "\n",
    "    print(\"  Avg. charges: {}\".format(round(statistics.mean(region_charges),2)))\n",
    "\n",
    "# print(region_smoker_list)\n",
    "\n",
    "x = np.array(list(all_regions))\n",
    "y = np.array(region_count)\n",
    "plt.bar(x, y)\n",
    "\n",
    "y = np.array(region_count_smoker)\n",
    "plt.bar(x, y)\n",
    "plt.show()\n",
    "\n"
   ]
  },
  {
   "attachments": {},
   "cell_type": "markdown",
   "metadata": {},
   "source": [
    "---------------\n",
    "- Summary stats on Numerical variables\n",
    "    - ###### on age, bmi, children and charges.\n",
    "\n",
    "On Age.."
   ]
  },
  {
   "cell_type": "code",
   "execution_count": 5,
   "metadata": {},
   "outputs": [
    {
     "name": "stdout",
     "output_type": "stream",
     "text": [
      "Average age of patients in the dataset is 39.21 years.\n",
      "Median age: 39.0\n",
      "Mode age: 18\n"
     ]
    }
   ],
   "source": [
    "print(\"Average age of patients in the dataset is {} years.\".format(round(statistics.mean(age_list),2)))\n",
    "print(\"Median age: {}\".format(round(statistics.median(age_list),2)))\n",
    "print(\"Mode age: {}\".format(round(statistics.mode(age_list),2)))"
   ]
  },
  {
   "cell_type": "code",
   "execution_count": 6,
   "metadata": {},
   "outputs": [
    {
     "data": {
      "image/png": "[encoded data removed]",
      "text/plain": [
       "<Figure size 640x480 with 1 Axes>"
      ]
     },
     "metadata": {},
     "output_type": "display_data"
    },
    {
     "name": "stdout",
     "output_type": "stream",
     "text": [
      "Standard deviation of ages: 14.04\n",
      "IQR of ages: 24.0\n"
     ]
    }
   ],
   "source": [
    "import matplotlib.pyplot as plt\n",
    "import numpy as np\n",
    "\n",
    "all_ages = set(age_list)\n",
    "ages_count = dict.fromkeys(all_ages,0)\n",
    "for row in imported_data:\n",
    "    ages_count[int(row['age'])] += 1\n",
    "\n",
    "x = np.array(list(ages_count.keys()))\n",
    "y = np.array(list(ages_count.values()))\n",
    "\n",
    "plt.bar(x,y)\n",
    "plt.xlabel(\"age\")\n",
    "plt.ylabel(\"count\")\n",
    "plt.show()\n",
    "\n",
    "print(\"Standard deviation of ages: {}\".format(round(statistics.pstdev(age_list),2)))\n",
    "print(\"IQR of ages: {}\".format(round(np.quantile(age_list,0.75) - np.quantile(age_list,0.25),2)))"
   ]
  },
  {
   "attachments": {},
   "cell_type": "markdown",
   "metadata": {},
   "source": [
    "---------------\n",
    "On bmi.."
   ]
  },
  {
   "cell_type": "code",
   "execution_count": 7,
   "metadata": {},
   "outputs": [
    {
     "name": "stdout",
     "output_type": "stream",
     "text": [
      "Average bmi: 30.66\n",
      "Median bmi: 30.4\n",
      "Mode bmi: 32.3\n"
     ]
    },
    {
     "data": {
      "image/png": "[encoded data removed]",
      "text/plain": [
       "<Figure size 640x480 with 1 Axes>"
      ]
     },
     "metadata": {},
     "output_type": "display_data"
    },
    {
     "name": "stdout",
     "output_type": "stream",
     "text": [
      "Standard deviation of bmi: 6.1\n",
      "IQR of bmi: 8.4\n"
     ]
    }
   ],
   "source": [
    "print(\"Average bmi: {}\".format(round(statistics.mean(bmi_list),2)))\n",
    "print(\"Median bmi: {}\".format(round(statistics.median(bmi_list),2)))\n",
    "print(\"Mode bmi: {}\".format(round(statistics.mode(bmi_list),2)))\n",
    "\n",
    "all_bmis = set(bmi_list)\n",
    "groups_bmi_list = list(range(10,80,10))\n",
    "groups_bmi_dict = dict.fromkeys(groups_bmi_list,0)\n",
    "# bmis_count = dict.fromkeys(all_bmis,0)\n",
    "for row in imported_data:\n",
    "    bmi = float(row['bmi'])\n",
    "    # bmis_count[bmi] += 1\n",
    "    for group in groups_bmi_list:\n",
    "        if(bmi < group):\n",
    "            groups_bmi_dict[group] += 1\n",
    "            break\n",
    "\n",
    "x = np.array(list(groups_bmi_dict.keys()))\n",
    "y = np.array(list(groups_bmi_dict.values()))\n",
    "\n",
    "plt.bar(x,y, width=8)\n",
    "plt.xlabel(\"bmi (less than)\")\n",
    "plt.ylabel(\"count\")\n",
    "plt.show()\n",
    "\n",
    "print(\"Standard deviation of bmi: {}\".format(round(statistics.pstdev(bmi_list),2)))\n",
    "print(\"IQR of bmi: {}\".format(round(np.quantile(bmi_list,0.75) - np.quantile(bmi_list,0.25),2)))"
   ]
  },
  {
   "attachments": {},
   "cell_type": "markdown",
   "metadata": {},
   "source": [
    "---------------\n",
    "On children count.."
   ]
  },
  {
   "cell_type": "code",
   "execution_count": 8,
   "metadata": {},
   "outputs": [
    {
     "name": "stdout",
     "output_type": "stream",
     "text": [
      "Average count of children: 1.09\n",
      "Median count: 1.0\n",
      "Mode count: 0\n",
      "Average age of patients with children is 39.78 years.\n"
     ]
    },
    {
     "data": {
      "image/png": "[encoded data removed]",
      "text/plain": [
       "<Figure size 640x480 with 1 Axes>"
      ]
     },
     "metadata": {},
     "output_type": "display_data"
    }
   ],
   "source": [
    "print(\"Average count of children: {}\".format(round(statistics.mean(children_list),2)))\n",
    "print(\"Median count: {}\".format(round(statistics.median(children_list),2)))\n",
    "print(\"Mode count: {}\".format(round(statistics.mode(children_list),2)))\n",
    "\n",
    "all_children = set(children_list)\n",
    "children_count = dict.fromkeys(all_children,0)\n",
    "ages_list_children = []\n",
    "ages_list_no_children = []\n",
    "for row in imported_data:\n",
    "    child_count = float(row['children'])\n",
    "    children_count[child_count] += 1\n",
    "\n",
    "    if child_count >0:\n",
    "        ages_list_children.append(int(row['age']))\n",
    "    else:\n",
    "        ages_list_no_children.append(int(row['age']))\n",
    "\n",
    "print(\"Average age of patients with children is {} years.\".format(round(statistics.mean(ages_list_children),2)))\n",
    "# print(\"Average age of patients with no children is {} years.\".format(round(statistics.mean(ages_list_no_children),2)))\n",
    "x = np.array(list(children_count.keys()))\n",
    "y = np.array(list(children_count.values()))\n",
    "\n",
    "plt.bar(x,y)\n",
    "plt.xlabel(\"No. of children\")\n",
    "plt.ylabel(\"count\")\n",
    "plt.show()\n",
    "\n",
    "# print(\"Standard deviation of ages: {}\".format(round(statistics.pstdev(children_list),2)))\n",
    "# print(\"IQR of ages: {}\".format(round(np.quantile(children_list,0.75) - np.quantile(children_list,0.25),2)))"
   ]
  },
  {
   "attachments": {},
   "cell_type": "markdown",
   "metadata": {},
   "source": [
    "---------------\n",
    "On charges.."
   ]
  },
  {
   "cell_type": "code",
   "execution_count": 9,
   "metadata": {},
   "outputs": [
    {
     "name": "stdout",
     "output_type": "stream",
     "text": [
      "min charges: 1121.8739\n",
      "max charges: 63770.42801\n",
      "Average charges: 13270.42\n",
      "Median charges: 9382.03\n",
      "Mode charges: 1639.56\n"
     ]
    },
    {
     "data": {
      "image/png": "[encoded data removed]",
      "text/plain": [
       "<Figure size 640x480 with 1 Axes>"
      ]
     },
     "metadata": {},
     "output_type": "display_data"
    },
    {
     "name": "stdout",
     "output_type": "stream",
     "text": [
      "Standard deviation of charges: 12105.48\n",
      "IQR of charges: 11899.63\n"
     ]
    }
   ],
   "source": [
    "print(\"min charges: {}\".format(min(charges_list)))\n",
    "print(\"max charges: {}\".format(max(charges_list)))\n",
    "print(\"Average charges: {}\".format(round(statistics.mean(charges_list),2)))\n",
    "print(\"Median charges: {}\".format(round(statistics.median(charges_list),2)))\n",
    "print(\"Mode charges: {}\".format(round(statistics.mode(charges_list),2)))\n",
    "\n",
    "# all_charges = set(charges_list)\n",
    "groups_charges_list = list(range(10000,71000,10000))\n",
    "groups_charges_dict = dict.fromkeys(groups_charges_list, 0)\n",
    "\n",
    "for row in imported_data:\n",
    "    charge = float(row['charges'])\n",
    "    for group in groups_charges_list:\n",
    "        if(charge < group):\n",
    "            groups_charges_dict[group] += 1\n",
    "            break\n",
    "\n",
    "x = np.array(list(groups_charges_dict.keys()))\n",
    "y = np.array(list(groups_charges_dict.values()))\n",
    "\n",
    "plt.bar(x,y, width=8000)\n",
    "plt.xlabel(\"charges (less than)\")\n",
    "plt.ylabel(\"count\")\n",
    "plt.show()\n",
    "\n",
    "print(\"Standard deviation of charges: {}\".format(round(statistics.pstdev(charges_list),2)))\n",
    "print(\"IQR of charges: {}\".format(round(np.quantile(charges_list,0.75) - np.quantile(charges_list,0.25),2)))"
   ]
  },
  {
   "attachments": {},
   "cell_type": "markdown",
   "metadata": {},
   "source": [
    "difference in charges between smokers and non-smokers."
   ]
  },
  {
   "cell_type": "code",
   "execution_count": 25,
   "metadata": {},
   "outputs": [
    {
     "name": "stdout",
     "output_type": "stream",
     "text": [
      "Average charges of smokers is 32050.23.\n",
      "Average charges of non-smokers is 8434.27.\n"
     ]
    }
   ],
   "source": [
    "charges_list_smoker = []\n",
    "ages_list_smoker = []\n",
    "charges_list_non_smoker = []\n",
    "ages_list_non_smoker = []\n",
    "children_list_smoker = []\n",
    "children_list_non_smoker = []\n",
    "bmi_list_smoker = []\n",
    "bmi_list_non_smoker = []\n",
    "for row in imported_data:\n",
    "    if row['smoker'] == 'yes':\n",
    "        charges_list_smoker.append(float(row['charges']))\n",
    "        children_list_smoker.append(int(row['children']))\n",
    "        ages_list_smoker.append(int(row['age']))\n",
    "        bmi_list_smoker.append(float(row['bmi']))\n",
    "    else:\n",
    "        charges_list_non_smoker.append(float(row['charges']))\n",
    "        children_list_non_smoker.append(int(row['children']))\n",
    "        ages_list_non_smoker.append(int(row['age']))\n",
    "        bmi_list_non_smoker.append(float(row['bmi']))\n",
    "\n",
    "print(\"Average charges of smokers is {}.\".format(round(statistics.mean(charges_list_smoker),2)))\n",
    "print(\"Average charges of non-smokers is {}.\".format(round(statistics.mean(charges_list_non_smoker),2)))"
   ]
  },
  {
   "attachments": {},
   "cell_type": "markdown",
   "metadata": {},
   "source": [
    "Scatter plots\n",
    "1. x axis = charges, y axis = children, values = smoker\n",
    "2. x axis = charges, y axis = age, values = smoker\n",
    "3. x axis = charges, y axis = bmi, values = smoker\n",
    "4. x axis = region, y axis = age, values = smoker"
   ]
  },
  {
   "cell_type": "code",
   "execution_count": 2,
   "metadata": {},
   "outputs": [
    {
     "ename": "NameError",
     "evalue": "name 'np' is not defined",
     "output_type": "error",
     "traceback": [
      "\u001b[1;31m---------------------------------------------------------------------------\u001b[0m",
      "\u001b[1;31mNameError\u001b[0m                                 Traceback (most recent call last)",
      "Cell \u001b[1;32mIn[2], line 1\u001b[0m\n\u001b[1;32m----> 1\u001b[0m x \u001b[39m=\u001b[39m np\u001b[39m.\u001b[39marray(charges_list_smoker)\n\u001b[0;32m      2\u001b[0m y \u001b[39m=\u001b[39m np\u001b[39m.\u001b[39marray(children_list_smoker)\n\u001b[0;32m      3\u001b[0m plt\u001b[39m.\u001b[39mscatter(x,y)\n",
      "\u001b[1;31mNameError\u001b[0m: name 'np' is not defined"
     ]
    }
   ],
   "source": [
    "x = np.array(charges_list_smoker)\n",
    "y = np.array(children_list_smoker)\n",
    "plt.scatter(x,y)\n",
    "\n",
    "x = np.array(charges_list_non_smoker)\n",
    "y = np.array(children_list_non_smoker)\n",
    "plt.scatter(x,y)\n",
    "\n",
    "plt.show()\n",
    "\n",
    "x = np.array(charges_list_smoker)\n",
    "y = np.array(ages_list_smoker)\n",
    "plt.scatter(x,y)\n",
    "\n",
    "x = np.array(charges_list_non_smoker)\n",
    "y = np.array(ages_list_non_smoker)\n",
    "plt.scatter(x,y)\n",
    "\n",
    "plt.show()\n",
    "\n",
    "x = np.array(charges_list_smoker)\n",
    "y = np.array(bmi_list_smoker)\n",
    "plt.scatter(y,x)\n",
    "\n",
    "x = np.array(charges_list_non_smoker)\n",
    "y = np.array(bmi_list_non_smoker)\n",
    "plt.scatter(y,x)\n",
    "\n",
    "plt.show()\n",
    "\n",
    "# for region in all_regions:\n",
    "#     x = np.array(list(all_regions))\n",
    "#     y = np.array(region_smoker_list[region])\n",
    "#     plt.scatter(x, y)\n",
    "\n",
    "# plt.show()"
   ]
  }
 ],
 "metadata": {
  "kernelspec": {
   "display_name": "Python 3",
   "language": "python",
   "name": "python3"
  },
  "language_info": {
   "codemirror_mode": {
    "name": "ipython",
    "version": 3
   },
   "file_extension": ".py",
   "mimetype": "text/x-python",
   "name": "python",
   "nbconvert_exporter": "python",
   "pygments_lexer": "ipython3",
   "version": "3.11.1"
  },
  "orig_nbformat": 4
 },
 "nbformat": 4,
 "nbformat_minor": 2
}
